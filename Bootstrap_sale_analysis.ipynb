{
 "cells": [
  {
   "cell_type": "markdown",
   "metadata": {},
   "source": [
    "# Should the company increase the price to \\\\$ 59 from \\\\$39?\n",
    "\n",
    "## Out line of the problem\n",
    "- ### VP of the product want to increase the sales by increasing the price of the software.\n",
    "\n",
    "- ### Actionable insight for increasing conversion rate and (sales?)\n",
    "\n",
    "## Approach\n",
    "\n",
    "- ### Check if the sales increased by raising the price to \\\\$59\n",
    "\n",
    "- ### Check if any user segment behaved differently\n",
    "\n",
    "- ### Confirm hypothesis by getting confidence intervals for each value using bootstrap\n",
    "\n",
    "## Summary\n",
    "- ### Overall, increasing the price to \\\\$59 decreased the conversion rate but significantly increased the sales.\n",
    "\n",
    "- ### Sales from \"mobile\" customers signficantly increased. Sales from \"web\" customers increased but the confidence interval was very close to 1 for sales ratio.\n",
    "\n",
    "- ### Sales increased significantly for \"iOS\" and \"mac\" users, but \"linux\" users did not buy higher priced software.\n",
    "\n",
    "- ### Users with \"friend referral\" has higher conversion rate.\n",
    "\n",
    "- ### Customers coming from \"ads-google\" and \"seo-google\" has higher sales during the test.\n",
    "\n",
    "- ### Customers coming from \"seo-bing\" and \"seo-yahoo\" has lower sales during the test, but need more data to determine it's significance.\n",
    "\n",
    "- ### Sales for customers in the \"east\" increased significantly for the test.\n",
    "\n",
    "- ### Sales for customers in the \"south\" did not significantly increase for the test."
   ]
  },
  {
   "cell_type": "markdown",
   "metadata": {},
   "source": [
    "## Relevant analyses"
   ]
  },
  {
   "cell_type": "code",
   "execution_count": 1,
   "metadata": {},
   "outputs": [],
   "source": [
    "#Import necessary packages\n",
    "\n",
    "import numpy as np\n",
    "import pandas as pd\n",
    "import os\n",
    "import pickle\n",
    "\n",
    "import matplotlib.pyplot as plt\n",
    "import seaborn as sb\n",
    "color = sb.color_palette()\n",
    "%matplotlib inline\n",
    "\n",
    "from pandas.plotting import register_matplotlib_converters\n",
    "register_matplotlib_converters()"
   ]
  },
  {
   "cell_type": "markdown",
   "metadata": {},
   "source": [
    "### Read in the data: two tables."
   ]
  },
  {
   "cell_type": "code",
   "execution_count": 2,
   "metadata": {},
   "outputs": [
    {
     "data": {
      "text/html": [
       "<div>\n",
       "<style scoped>\n",
       "    .dataframe tbody tr th:only-of-type {\n",
       "        vertical-align: middle;\n",
       "    }\n",
       "\n",
       "    .dataframe tbody tr th {\n",
       "        vertical-align: top;\n",
       "    }\n",
       "\n",
       "    .dataframe thead th {\n",
       "        text-align: right;\n",
       "    }\n",
       "</style>\n",
       "<table border=\"1\" class=\"dataframe\">\n",
       "  <thead>\n",
       "    <tr style=\"text-align: right;\">\n",
       "      <th></th>\n",
       "      <th>user_id</th>\n",
       "      <th>timestamp</th>\n",
       "      <th>source</th>\n",
       "      <th>device</th>\n",
       "      <th>operative_system</th>\n",
       "      <th>test</th>\n",
       "      <th>price</th>\n",
       "      <th>converted</th>\n",
       "    </tr>\n",
       "  </thead>\n",
       "  <tbody>\n",
       "    <tr>\n",
       "      <th>0</th>\n",
       "      <td>604839</td>\n",
       "      <td>2015-05-08 03:38:34</td>\n",
       "      <td>ads_facebook</td>\n",
       "      <td>mobile</td>\n",
       "      <td>iOS</td>\n",
       "      <td>0</td>\n",
       "      <td>39</td>\n",
       "      <td>0</td>\n",
       "    </tr>\n",
       "    <tr>\n",
       "      <th>1</th>\n",
       "      <td>624057</td>\n",
       "      <td>2015-05-10 21:08:46</td>\n",
       "      <td>seo-google</td>\n",
       "      <td>mobile</td>\n",
       "      <td>android</td>\n",
       "      <td>0</td>\n",
       "      <td>39</td>\n",
       "      <td>0</td>\n",
       "    </tr>\n",
       "    <tr>\n",
       "      <th>2</th>\n",
       "      <td>317970</td>\n",
       "      <td>2015-04-04 15:01:23</td>\n",
       "      <td>ads-bing</td>\n",
       "      <td>mobile</td>\n",
       "      <td>android</td>\n",
       "      <td>0</td>\n",
       "      <td>39</td>\n",
       "      <td>0</td>\n",
       "    </tr>\n",
       "    <tr>\n",
       "      <th>3</th>\n",
       "      <td>685636</td>\n",
       "      <td>2015-05-07 07:26:01</td>\n",
       "      <td>direct_traffic</td>\n",
       "      <td>mobile</td>\n",
       "      <td>iOS</td>\n",
       "      <td>1</td>\n",
       "      <td>59</td>\n",
       "      <td>0</td>\n",
       "    </tr>\n",
       "    <tr>\n",
       "      <th>4</th>\n",
       "      <td>820854</td>\n",
       "      <td>2015-05-24 11:04:40</td>\n",
       "      <td>ads_facebook</td>\n",
       "      <td>web</td>\n",
       "      <td>mac</td>\n",
       "      <td>0</td>\n",
       "      <td>39</td>\n",
       "      <td>0</td>\n",
       "    </tr>\n",
       "  </tbody>\n",
       "</table>\n",
       "</div>"
      ],
      "text/plain": [
       "   user_id            timestamp          source  device operative_system  \\\n",
       "0   604839  2015-05-08 03:38:34    ads_facebook  mobile              iOS   \n",
       "1   624057  2015-05-10 21:08:46      seo-google  mobile          android   \n",
       "2   317970  2015-04-04 15:01:23        ads-bing  mobile          android   \n",
       "3   685636  2015-05-07 07:26:01  direct_traffic  mobile              iOS   \n",
       "4   820854  2015-05-24 11:04:40    ads_facebook     web              mac   \n",
       "\n",
       "   test  price  converted  \n",
       "0     0     39          0  \n",
       "1     0     39          0  \n",
       "2     0     39          0  \n",
       "3     1     59          0  \n",
       "4     0     39          0  "
      ]
     },
     "execution_count": 2,
     "metadata": {},
     "output_type": "execute_result"
    }
   ],
   "source": [
    "#Read the test_results.csv\n",
    "current_path = os.getcwd()\n",
    "file = '/datasets/Cost/test_results.csv'\n",
    "test_results = pd.read_csv(current_path + file)\n",
    "\n",
    "test_results.head()"
   ]
  },
  {
   "cell_type": "code",
   "execution_count": 3,
   "metadata": {},
   "outputs": [
    {
     "data": {
      "text/html": [
       "<div>\n",
       "<style scoped>\n",
       "    .dataframe tbody tr th:only-of-type {\n",
       "        vertical-align: middle;\n",
       "    }\n",
       "\n",
       "    .dataframe tbody tr th {\n",
       "        vertical-align: top;\n",
       "    }\n",
       "\n",
       "    .dataframe thead th {\n",
       "        text-align: right;\n",
       "    }\n",
       "</style>\n",
       "<table border=\"1\" class=\"dataframe\">\n",
       "  <thead>\n",
       "    <tr style=\"text-align: right;\">\n",
       "      <th></th>\n",
       "      <th>user_id</th>\n",
       "      <th>city</th>\n",
       "      <th>country</th>\n",
       "      <th>lat</th>\n",
       "      <th>long</th>\n",
       "    </tr>\n",
       "  </thead>\n",
       "  <tbody>\n",
       "    <tr>\n",
       "      <th>0</th>\n",
       "      <td>510335</td>\n",
       "      <td>Peabody</td>\n",
       "      <td>USA</td>\n",
       "      <td>42.53</td>\n",
       "      <td>-70.97</td>\n",
       "    </tr>\n",
       "    <tr>\n",
       "      <th>1</th>\n",
       "      <td>89568</td>\n",
       "      <td>Reno</td>\n",
       "      <td>USA</td>\n",
       "      <td>39.54</td>\n",
       "      <td>-119.82</td>\n",
       "    </tr>\n",
       "    <tr>\n",
       "      <th>2</th>\n",
       "      <td>434134</td>\n",
       "      <td>Rialto</td>\n",
       "      <td>USA</td>\n",
       "      <td>34.11</td>\n",
       "      <td>-117.39</td>\n",
       "    </tr>\n",
       "    <tr>\n",
       "      <th>3</th>\n",
       "      <td>289769</td>\n",
       "      <td>Carson City</td>\n",
       "      <td>USA</td>\n",
       "      <td>39.15</td>\n",
       "      <td>-119.74</td>\n",
       "    </tr>\n",
       "    <tr>\n",
       "      <th>4</th>\n",
       "      <td>939586</td>\n",
       "      <td>Chicago</td>\n",
       "      <td>USA</td>\n",
       "      <td>41.84</td>\n",
       "      <td>-87.68</td>\n",
       "    </tr>\n",
       "  </tbody>\n",
       "</table>\n",
       "</div>"
      ],
      "text/plain": [
       "   user_id         city country    lat    long\n",
       "0   510335      Peabody     USA  42.53  -70.97\n",
       "1    89568         Reno     USA  39.54 -119.82\n",
       "2   434134       Rialto     USA  34.11 -117.39\n",
       "3   289769  Carson City     USA  39.15 -119.74\n",
       "4   939586      Chicago     USA  41.84  -87.68"
      ]
     },
     "execution_count": 3,
     "metadata": {},
     "output_type": "execute_result"
    }
   ],
   "source": [
    "#Read in the user data\n",
    "file = '/datasets/Cost/user_table.csv'\n",
    "user = pd.read_csv(current_path + file)\n",
    "\n",
    "user.head()"
   ]
  },
  {
   "cell_type": "markdown",
   "metadata": {},
   "source": [
    "### Merge dataframe so we can find where each user lives"
   ]
  },
  {
   "cell_type": "code",
   "execution_count": 136,
   "metadata": {},
   "outputs": [
    {
     "data": {
      "text/html": [
       "<div>\n",
       "<style scoped>\n",
       "    .dataframe tbody tr th:only-of-type {\n",
       "        vertical-align: middle;\n",
       "    }\n",
       "\n",
       "    .dataframe tbody tr th {\n",
       "        vertical-align: top;\n",
       "    }\n",
       "\n",
       "    .dataframe thead th {\n",
       "        text-align: right;\n",
       "    }\n",
       "</style>\n",
       "<table border=\"1\" class=\"dataframe\">\n",
       "  <thead>\n",
       "    <tr style=\"text-align: right;\">\n",
       "      <th></th>\n",
       "      <th>user_id</th>\n",
       "      <th>timestamp</th>\n",
       "      <th>source</th>\n",
       "      <th>device</th>\n",
       "      <th>operative_system</th>\n",
       "      <th>test</th>\n",
       "      <th>price</th>\n",
       "      <th>converted</th>\n",
       "      <th>city</th>\n",
       "      <th>country</th>\n",
       "      <th>lat</th>\n",
       "      <th>long</th>\n",
       "    </tr>\n",
       "  </thead>\n",
       "  <tbody>\n",
       "    <tr>\n",
       "      <th>0</th>\n",
       "      <td>604839</td>\n",
       "      <td>2015-05-08 03:38:34</td>\n",
       "      <td>ads_facebook</td>\n",
       "      <td>mobile</td>\n",
       "      <td>iOS</td>\n",
       "      <td>0</td>\n",
       "      <td>39</td>\n",
       "      <td>0</td>\n",
       "      <td>Buffalo</td>\n",
       "      <td>USA</td>\n",
       "      <td>42.89</td>\n",
       "      <td>-78.86</td>\n",
       "    </tr>\n",
       "    <tr>\n",
       "      <th>1</th>\n",
       "      <td>624057</td>\n",
       "      <td>2015-05-10 21:08:46</td>\n",
       "      <td>seo-google</td>\n",
       "      <td>mobile</td>\n",
       "      <td>android</td>\n",
       "      <td>0</td>\n",
       "      <td>39</td>\n",
       "      <td>0</td>\n",
       "      <td>Lakeville</td>\n",
       "      <td>USA</td>\n",
       "      <td>44.68</td>\n",
       "      <td>-93.24</td>\n",
       "    </tr>\n",
       "    <tr>\n",
       "      <th>2</th>\n",
       "      <td>317970</td>\n",
       "      <td>2015-04-04 15:01:23</td>\n",
       "      <td>ads-bing</td>\n",
       "      <td>mobile</td>\n",
       "      <td>android</td>\n",
       "      <td>0</td>\n",
       "      <td>39</td>\n",
       "      <td>0</td>\n",
       "      <td>Parma</td>\n",
       "      <td>USA</td>\n",
       "      <td>41.38</td>\n",
       "      <td>-81.73</td>\n",
       "    </tr>\n",
       "    <tr>\n",
       "      <th>3</th>\n",
       "      <td>685636</td>\n",
       "      <td>2015-05-07 07:26:01</td>\n",
       "      <td>direct_traffic</td>\n",
       "      <td>mobile</td>\n",
       "      <td>iOS</td>\n",
       "      <td>1</td>\n",
       "      <td>59</td>\n",
       "      <td>0</td>\n",
       "      <td>Fayetteville</td>\n",
       "      <td>USA</td>\n",
       "      <td>35.07</td>\n",
       "      <td>-78.90</td>\n",
       "    </tr>\n",
       "    <tr>\n",
       "      <th>4</th>\n",
       "      <td>820854</td>\n",
       "      <td>2015-05-24 11:04:40</td>\n",
       "      <td>ads_facebook</td>\n",
       "      <td>web</td>\n",
       "      <td>mac</td>\n",
       "      <td>0</td>\n",
       "      <td>39</td>\n",
       "      <td>0</td>\n",
       "      <td>Fishers</td>\n",
       "      <td>USA</td>\n",
       "      <td>39.95</td>\n",
       "      <td>-86.02</td>\n",
       "    </tr>\n",
       "  </tbody>\n",
       "</table>\n",
       "</div>"
      ],
      "text/plain": [
       "   user_id            timestamp          source  device operative_system  \\\n",
       "0   604839  2015-05-08 03:38:34    ads_facebook  mobile              iOS   \n",
       "1   624057  2015-05-10 21:08:46      seo-google  mobile          android   \n",
       "2   317970  2015-04-04 15:01:23        ads-bing  mobile          android   \n",
       "3   685636  2015-05-07 07:26:01  direct_traffic  mobile              iOS   \n",
       "4   820854  2015-05-24 11:04:40    ads_facebook     web              mac   \n",
       "\n",
       "   test  price  converted          city country    lat   long  \n",
       "0     0     39          0       Buffalo     USA  42.89 -78.86  \n",
       "1     0     39          0     Lakeville     USA  44.68 -93.24  \n",
       "2     0     39          0         Parma     USA  41.38 -81.73  \n",
       "3     1     59          0  Fayetteville     USA  35.07 -78.90  \n",
       "4     0     39          0       Fishers     USA  39.95 -86.02  "
      ]
     },
     "execution_count": 136,
     "metadata": {},
     "output_type": "execute_result"
    }
   ],
   "source": [
    "test_results_user = pd.merge(test_results, user, on = 'user_id', how='left')\n",
    "\n",
    "test_results_user.head()"
   ]
  },
  {
   "cell_type": "markdown",
   "metadata": {},
   "source": [
    "### First, group by test and find if the coversion rate is significantly different."
   ]
  },
  {
   "cell_type": "code",
   "execution_count": 140,
   "metadata": {},
   "outputs": [
    {
     "data": {
      "text/plain": [
       "Text(0.5, 0, 'test')"
      ]
     },
     "execution_count": 140,
     "metadata": {},
     "output_type": "execute_result"
    },
    {
     "data": {
      "image/png": "[encoded data removed]",
      "text/plain": [
       "<Figure size 432x288 with 2 Axes>"
      ]
     },
     "metadata": {
      "needs_background": "light"
     },
     "output_type": "display_data"
    }
   ],
   "source": [
    "#Group by 'test'\n",
    "test_control_group = test_results_user.groupby('test') \n",
    "\n",
    "#test group got $59 price, control $39\n",
    "test_group = test_control_group.get_group(1) \n",
    "control_group = test_control_group.get_group(0)\n",
    "\n",
    "test_rate = sum(test_group['converted'])/test_group.shape[0]\n",
    "\n",
    "control_rate = sum(control_group['converted'])/control_group.shape[0]\n",
    "\n",
    "#plot the control rate and the test rate\n",
    "fig, (ax1, ax2) = plt.subplots(1, 2, sharey=True)\n",
    "#fig.suptitle('Current and target turnover rate')\n",
    "sb.barplot(control_rate*100, orient = 'v', ax =ax1)\n",
    "ax1.set_ylabel('converted/total (%)')\n",
    "ax1.set_xlabel('control')\n",
    "#ax1.set_ylim((0,10)) \n",
    "sb.barplot(test_rate*100, orient = 'v', color = 'red', ax = ax2)\n",
    "ax2.set_xlabel('test')\n"
   ]
  },
  {
   "cell_type": "markdown",
   "metadata": {},
   "source": [
    "### test sites has lower sales number, but we want to compare the total sales"
   ]
  },
  {
   "cell_type": "code",
   "execution_count": 143,
   "metadata": {},
   "outputs": [
    {
     "data": {
      "text/plain": [
       "Text(0, 0.5, 'test sales/control sales')"
      ]
     },
     "execution_count": 143,
     "metadata": {},
     "output_type": "execute_result"
    },
    {
     "data": {
      "image/png": "[encoded data removed]",
      "text/plain": [
       "<Figure size 432x288 with 1 Axes>"
      ]
     },
     "metadata": {
      "needs_background": "light"
     },
     "output_type": "display_data"
    }
   ],
   "source": [
    "sales_ratio = (59/39 * test_rate)/control_rate\n",
    "ax1 = sb.barplot(sales_ratio,orient='v')\n",
    "ax1.set_ylabel('test sales/control sales')"
   ]
  },
  {
   "cell_type": "markdown",
   "metadata": {},
   "source": [
    "### Use bootstrap to find the confidence interval"
   ]
  },
  {
   "cell_type": "code",
   "execution_count": 144,
   "metadata": {},
   "outputs": [],
   "source": [
    "# we need to bootstrap to find the confidence interval\n",
    "control_converted=control_group['converted']\n",
    "test_converted = test_group['converted']\n",
    "\n",
    "sales_ratio_boot = np.zeros((1000,1))\n",
    "\n",
    "for boot_sample in range (1000):\n",
    "    control_sample = control_converted.sample(frac=1, replace=True)\n",
    "    test_sample = test_converted.sample(frac=1, replace=True)\n",
    "\n",
    "    control_rate_boot=sum(control_sample)/control_sample.shape[0]\n",
    "    test_rate_boot=sum(test_sample)/test_sample.shape[0]\n",
    "    \n",
    "    sales_ratio_boot[boot_sample]=(59/39 * test_rate_boot)/control_rate_boot\n",
    "\n"
   ]
  },
  {
   "cell_type": "code",
   "execution_count": 146,
   "metadata": {},
   "outputs": [
    {
     "data": {
      "text/plain": [
       "Text(0.5, 0, 'test sales/control sales')"
      ]
     },
     "execution_count": 146,
     "metadata": {},
     "output_type": "execute_result"
    },
    {
     "data": {
      "image/png": "[encoded data removed]",
      "text/plain": [
       "<Figure size 432x288 with 1 Axes>"
      ]
     },
     "metadata": {
      "needs_background": "light"
     },
     "output_type": "display_data"
    }
   ],
   "source": [
    "ax1=sb.distplot(sales_ratio_boot)\n",
    "sb.despine()\n",
    "ax1.set_xlabel('test sales/control sales')"
   ]
  },
  {
   "cell_type": "code",
   "execution_count": 166,
   "metadata": {},
   "outputs": [
    {
     "name": "stdout",
     "output_type": "stream",
     "text": [
      "ratio    1.113673\n",
      "Name: 25, dtype: float64\n",
      "ratio    1.245304\n",
      "Name: 975, dtype: float64\n"
     ]
    }
   ],
   "source": [
    "sales_ratio_df = pd.DataFrame(sales_ratio_boot, columns = ['ratio'])\n",
    "sales_ratio_df.sort_values(by = ['ratio'],inplace = True)\n",
    "sales_ratio_df.reset_index(drop=True, inplace = True)\n",
    "print(sales_ratio_df.iloc[25])\n",
    "print(sales_ratio_df.iloc[975])"
   ]
  },
  {
   "cell_type": "markdown",
   "metadata": {},
   "source": [
    "### Check if there are any difference in the sales ratio with \"device\""
   ]
  },
  {
   "cell_type": "code",
   "execution_count": 167,
   "metadata": {},
   "outputs": [
    {
     "data": {
      "text/plain": [
       "mobile    186471\n",
       "web       130329\n",
       "Name: device, dtype: int64"
      ]
     },
     "execution_count": 167,
     "metadata": {},
     "output_type": "execute_result"
    }
   ],
   "source": [
    "#About equal number of mobile and web customers.\n",
    "device = test_results_user['device']\n",
    "device_counts = device.value_counts()\n",
    "device_counts"
   ]
  },
  {
   "cell_type": "code",
   "execution_count": 168,
   "metadata": {},
   "outputs": [
    {
     "data": {
      "text/plain": [
       "array(['mobile', 'web'], dtype=object)"
      ]
     },
     "execution_count": 168,
     "metadata": {},
     "output_type": "execute_result"
    }
   ],
   "source": [
    "device_list=test_group.device.unique()\n",
    "device_list"
   ]
  },
  {
   "cell_type": "code",
   "execution_count": 170,
   "metadata": {},
   "outputs": [
    {
     "data": {
      "text/plain": [
       "array([[0.01987865, 0.01613881],\n",
       "       [0.01994018, 0.01472454]])"
      ]
     },
     "execution_count": 170,
     "metadata": {},
     "output_type": "execute_result"
    }
   ],
   "source": [
    "\n",
    "#For all device types get the control conversion rate and test conversion rate.\n",
    "#First column for control, second for the test\n",
    "device_conversion_rate = np.zeros((device_list.shape[0],2))\n",
    "\n",
    "test_group_device = test_group.groupby('device') \n",
    "control_group_device = control_group.groupby('device') \n",
    "\n",
    "\n",
    "n=0\n",
    "for device in device_list:\n",
    "    device_group_control=control_group_device.get_group(device) \n",
    "    device_conversion_rate[n,0] = sum(device_group_control['converted'])/device_group_control.shape[0]\n",
    "    \n",
    "    device_group_test=test_group_device.get_group(device) \n",
    "    device_conversion_rate[n,1] = sum(device_group_test['converted'])/device_group_test.shape[0]\n",
    "    \n",
    "    n = n+1\n",
    "device_conversion_rate"
   ]
  },
  {
   "cell_type": "code",
   "execution_count": 171,
   "metadata": {},
   "outputs": [],
   "source": [
    "# bootstrap for mobile customers.\n",
    "\n",
    "device_group_control=control_group_device.get_group('mobile')\n",
    "device_group_test = test_group_device.get_group('mobile')\n",
    "\n",
    "control_converted=device_group_control['converted']\n",
    "test_converted = device_group_test['converted']\n",
    "\n",
    "sales_ratio_boot_mobile = np.zeros((1000,1))\n",
    "\n",
    "for boot_sample in range (1000):\n",
    "    control_sample = control_converted.sample(frac=1, replace=True)\n",
    "    test_sample = test_converted.sample(frac=1, replace=True)\n",
    "\n",
    "    control_rate_boot=sum(control_sample)/control_sample.shape[0]\n",
    "    test_rate_boot=sum(test_sample)/test_sample.shape[0]\n",
    "    \n",
    "    sales_ratio_boot_mobile[boot_sample]=(59/39 * test_rate_boot)/control_rate_boot\n"
   ]
  },
  {
   "cell_type": "code",
   "execution_count": 173,
   "metadata": {},
   "outputs": [],
   "source": [
    "# bootstrap for web customers.\n",
    "\n",
    "device_group_control=control_group_device.get_group('web')\n",
    "device_group_test = test_group_device.get_group('web')\n",
    "\n",
    "control_converted=device_group_control['converted']\n",
    "test_converted = device_group_test['converted']\n",
    "\n",
    "sales_ratio_boot_web = np.zeros((1000,1))\n",
    "\n",
    "for boot_sample in range (1000):\n",
    "    control_sample = control_converted.sample(frac=1, replace=True)\n",
    "    test_sample = test_converted.sample(frac=1, replace=True)\n",
    "\n",
    "    control_rate_boot=sum(control_sample)/control_sample.shape[0]\n",
    "    test_rate_boot=sum(test_sample)/test_sample.shape[0]\n",
    "    \n",
    "    sales_ratio_boot_web[boot_sample]=(59/39 * test_rate_boot)/control_rate_boot\n"
   ]
  },
  {
   "cell_type": "code",
   "execution_count": 176,
   "metadata": {},
   "outputs": [
    {
     "data": {
      "image/png": "[encoded data removed]",
      "text/plain": [
       "<Figure size 432x288 with 1 Axes>"
      ]
     },
     "metadata": {
      "needs_background": "light"
     },
     "output_type": "display_data"
    }
   ],
   "source": [
    "#plot the control rate and the test rate\n",
    "#fig, (ax1, ax2) = plt.subplots(2, 1, sharex=True)\n",
    "#fig.suptitle('Current and target turnover rate')\n",
    "ax1=sb.distplot(sales_ratio_boot_mobile)\n",
    "sb.despine()\n",
    "ax1.set_xlabel('test sales/control sales (mobile = blue, web = orange)')\n",
    "\n",
    "ax1=sb.distplot(sales_ratio_boot_web)\n",
    "sb.despine()\n",
    "\n",
    "\n"
   ]
  },
  {
   "cell_type": "code",
   "execution_count": 177,
   "metadata": {},
   "outputs": [
    {
     "name": "stdout",
     "output_type": "stream",
     "text": [
      "ratio    1.146055\n",
      "Name: 25, dtype: float64\n",
      "ratio    1.325107\n",
      "Name: 975, dtype: float64\n"
     ]
    }
   ],
   "source": [
    "sales_ratio_df = pd.DataFrame(sales_ratio_boot_mobile, columns = ['ratio'])\n",
    "sales_ratio_df.sort_values(by = ['ratio'],inplace = True)\n",
    "sales_ratio_df.reset_index(drop=True, inplace = True)\n",
    "print(sales_ratio_df.iloc[25])\n",
    "print(sales_ratio_df.iloc[975])"
   ]
  },
  {
   "cell_type": "code",
   "execution_count": 178,
   "metadata": {},
   "outputs": [
    {
     "name": "stdout",
     "output_type": "stream",
     "text": [
      "ratio    1.03041\n",
      "Name: 25, dtype: float64\n",
      "ratio    1.224879\n",
      "Name: 975, dtype: float64\n"
     ]
    }
   ],
   "source": [
    "sales_ratio_df = pd.DataFrame(sales_ratio_boot_web, columns = ['ratio'])\n",
    "sales_ratio_df.sort_values(by = ['ratio'],inplace = True)\n",
    "sales_ratio_df.reset_index(drop=True, inplace = True)\n",
    "print(sales_ratio_df.iloc[25])\n",
    "print(sales_ratio_df.iloc[975])"
   ]
  },
  {
   "cell_type": "markdown",
   "metadata": {},
   "source": [
    "### Check if \"operative system\" affect the sales ratio"
   ]
  },
  {
   "cell_type": "code",
   "execution_count": 179,
   "metadata": {},
   "outputs": [
    {
     "data": {
      "text/plain": [
       "windows    100976\n",
       "iOS         95465\n",
       "android     74935\n",
       "mac         25085\n",
       "other       16204\n",
       "linux        4135\n",
       "Name: operative_system, dtype: int64"
      ]
     },
     "execution_count": 179,
     "metadata": {},
     "output_type": "execute_result"
    }
   ],
   "source": [
    "#Small enough to be able to check each category.\n",
    "os = test_results_user['operative_system']\n",
    "os_counts = os.value_counts()\n",
    "os_counts"
   ]
  },
  {
   "cell_type": "code",
   "execution_count": 180,
   "metadata": {},
   "outputs": [
    {
     "data": {
      "text/plain": [
       "array(['iOS', 'android', 'mac', 'windows', 'other', 'linux'], dtype=object)"
      ]
     },
     "execution_count": 180,
     "metadata": {},
     "output_type": "execute_result"
    }
   ],
   "source": [
    "#Check the list of operative systems\n",
    "os_list=test_results_user.operative_system.unique()\n",
    "os_list"
   ]
  },
  {
   "cell_type": "code",
   "execution_count": 184,
   "metadata": {},
   "outputs": [
    {
     "data": {
      "text/plain": [
       "array([[0.02358742, 0.01999405, 1.28235327],\n",
       "       [0.0163659 , 0.01234799, 1.14141548],\n",
       "       [0.02547965, 0.02121803, 1.25979229],\n",
       "       [0.01869761, 0.01398957, 1.13189335],\n",
       "       [0.01400267, 0.01104101, 1.19284886],\n",
       "       [0.01540553, 0.        , 0.        ]])"
      ]
     },
     "execution_count": 184,
     "metadata": {},
     "output_type": "execute_result"
    }
   ],
   "source": [
    "#Check for different operative systems. 3rd column is the sales ratio\n",
    "os_conversion_rate = np.zeros((os_list.shape[0],3))\n",
    "\n",
    "test_group_os = test_group.groupby('operative_system') \n",
    "control_group_os = control_group.groupby('operative_system') \n",
    "\n",
    "\n",
    "n=0\n",
    "for os in os_list:\n",
    "    os_group_control=control_group_os.get_group(os) \n",
    "    os_conversion_rate[n,0] = sum(os_group_control['converted'])/os_group_control.shape[0]\n",
    "    \n",
    "    os_group_test=test_group_os.get_group(os) \n",
    "    os_conversion_rate[n,1] = sum(os_group_test['converted'])/os_group_test.shape[0]\n",
    "    \n",
    "    os_conversion_rate[n,2] = (59/39 * os_conversion_rate[n,1])/os_conversion_rate[n,0]\n",
    "    \n",
    "    n = n+1\n",
    "\n",
    "os_conversion_rate"
   ]
  },
  {
   "cell_type": "markdown",
   "metadata": {},
   "source": [
    "### iOS and Mac users buy more and also pay higher prices. Linux users don't buy higher priced product"
   ]
  },
  {
   "cell_type": "code",
   "execution_count": 192,
   "metadata": {},
   "outputs": [],
   "source": [
    "data = [{'iOS': 1.28, 'android': 1.14, 'mac': 1.26, 'windows': 1.13, 'other': 1.19, 'linux': 0.0}]\n",
    "df = pd.DataFrame(data) \n"
   ]
  },
  {
   "cell_type": "code",
   "execution_count": 191,
   "metadata": {},
   "outputs": [
    {
     "data": {
      "image/png": "[encoded data removed]",
      "text/plain": [
       "<Figure size 432x288 with 6 Axes>"
      ]
     },
     "metadata": {
      "needs_background": "light"
     },
     "output_type": "display_data"
    }
   ],
   "source": [
    "#plot the control rate and the test rate\n",
    "fig, (ax1, ax2, ax3, ax4, ax5, ax6) = plt.subplots(1, 6, sharey=True)\n",
    "#fig.suptitle('Current and target turnover rate')\n",
    "sb.barplot(df['iOS'], orient = 'v', color = 'red', ax =ax1)\n",
    "ax1.set_ylabel('sales ratio (test/control)')\n",
    "ax1.set_xlabel('iOS')\n",
    "#ax1.set_ylim((0,10)) \n",
    "sb.barplot(df['android'], orient = 'v', color = 'blue', ax = ax2)\n",
    "ax2.set_xlabel('android')\n",
    "\n",
    "\n",
    "sb.barplot(df['mac'], orient = 'v', color = 'red', ax = ax3)\n",
    "ax3.set_xlabel('mac')\n",
    "\n",
    "sb.barplot(df['windows'], orient = 'v', color = 'blue', ax = ax4)\n",
    "ax4.set_xlabel('windows')\n",
    "\n",
    "sb.barplot(df['other'], orient = 'v', color = 'blue', ax = ax5)\n",
    "ax5.set_xlabel('other')\n",
    "\n",
    "sb.barplot(df['linux'], orient = 'v', color = 'blue', ax = ax6)\n",
    "ax6.set_xlabel('linux')\n",
    "\n",
    "sb.despine()"
   ]
  },
  {
   "cell_type": "code",
   "execution_count": 193,
   "metadata": {},
   "outputs": [],
   "source": [
    "# bootstrap for iOS customers.\n",
    "\n",
    "os_group_control=control_group_os.get_group('iOS')\n",
    "os_group_test = test_group_os.get_group('iOS')\n",
    "\n",
    "control_converted=os_group_control['converted']\n",
    "test_converted = os_group_test['converted']\n",
    "\n",
    "sales_ratio_boot_ios = np.zeros((1000,1))\n",
    "\n",
    "for boot_sample in range (1000):\n",
    "    control_sample = control_converted.sample(frac=1, replace=True)\n",
    "    test_sample = test_converted.sample(frac=1, replace=True)\n",
    "\n",
    "    control_rate_boot=sum(control_sample)/control_sample.shape[0]\n",
    "    test_rate_boot=sum(test_sample)/test_sample.shape[0]\n",
    "    \n",
    "    sales_ratio_boot_ios[boot_sample]=(59/39 * test_rate_boot)/control_rate_boot\n"
   ]
  },
  {
   "cell_type": "code",
   "execution_count": 194,
   "metadata": {},
   "outputs": [],
   "source": [
    "# bootstrap for mac customers.\n",
    "\n",
    "os_group_control=control_group_os.get_group('mac')\n",
    "os_group_test = test_group_os.get_group('mac')\n",
    "\n",
    "control_converted=os_group_control['converted']\n",
    "test_converted = os_group_test['converted']\n",
    "\n",
    "sales_ratio_boot_mac = np.zeros((1000,1))\n",
    "\n",
    "for boot_sample in range (1000):\n",
    "    control_sample = control_converted.sample(frac=1, replace=True)\n",
    "    test_sample = test_converted.sample(frac=1, replace=True)\n",
    "\n",
    "    control_rate_boot=sum(control_sample)/control_sample.shape[0]\n",
    "    test_rate_boot=sum(test_sample)/test_sample.shape[0]\n",
    "    \n",
    "    sales_ratio_boot_mac[boot_sample]=(59/39 * test_rate_boot)/control_rate_boot\n"
   ]
  },
  {
   "cell_type": "code",
   "execution_count": 195,
   "metadata": {},
   "outputs": [
    {
     "data": {
      "image/png": "[encoded data removed]",
      "text/plain": [
       "<Figure size 432x288 with 1 Axes>"
      ]
     },
     "metadata": {
      "needs_background": "light"
     },
     "output_type": "display_data"
    }
   ],
   "source": [
    "ax1=sb.distplot(sales_ratio_boot_ios)\n",
    "sb.despine()\n",
    "ax1.set_xlabel('test sales/control sales (ios = blue, mac = orange)')\n",
    "\n",
    "ax1=sb.distplot(sales_ratio_boot_mac)\n",
    "sb.despine()\n"
   ]
  },
  {
   "cell_type": "code",
   "execution_count": 196,
   "metadata": {},
   "outputs": [
    {
     "name": "stdout",
     "output_type": "stream",
     "text": [
      "ratio    1.168033\n",
      "Name: 25, dtype: float64\n",
      "ratio    1.405765\n",
      "Name: 975, dtype: float64\n"
     ]
    }
   ],
   "source": [
    "sales_ratio_df = pd.DataFrame(sales_ratio_boot_ios, columns = ['ratio'])\n",
    "sales_ratio_df.sort_values(by = ['ratio'],inplace = True)\n",
    "sales_ratio_df.reset_index(drop=True, inplace = True)\n",
    "print(sales_ratio_df.iloc[25])\n",
    "print(sales_ratio_df.iloc[975])"
   ]
  },
  {
   "cell_type": "code",
   "execution_count": 197,
   "metadata": {},
   "outputs": [
    {
     "name": "stdout",
     "output_type": "stream",
     "text": [
      "ratio    1.060504\n",
      "Name: 25, dtype: float64\n",
      "ratio    1.488743\n",
      "Name: 975, dtype: float64\n"
     ]
    }
   ],
   "source": [
    "sales_ratio_df = pd.DataFrame(sales_ratio_boot_mac, columns = ['ratio'])\n",
    "sales_ratio_df.sort_values(by = ['ratio'],inplace = True)\n",
    "sales_ratio_df.reset_index(drop=True, inplace = True)\n",
    "print(sales_ratio_df.iloc[25])\n",
    "print(sales_ratio_df.iloc[975])"
   ]
  },
  {
   "cell_type": "markdown",
   "metadata": {},
   "source": [
    "### Check if \"source\" affect the sales or sales ratio"
   ]
  },
  {
   "cell_type": "code",
   "execution_count": 198,
   "metadata": {},
   "outputs": [
    {
     "data": {
      "text/plain": [
       "direct_traffic     60357\n",
       "ads-google         59379\n",
       "ads_facebook       53396\n",
       "ads_other          29876\n",
       "seo-google         23175\n",
       "ads-bing           22873\n",
       "seo_facebook       21205\n",
       "friend_referral    20695\n",
       "seo-other           9260\n",
       "ads-yahoo           7583\n",
       "seo-yahoo           6848\n",
       "seo-bing            2153\n",
       "Name: source, dtype: int64"
      ]
     },
     "execution_count": 198,
     "metadata": {},
     "output_type": "execute_result"
    }
   ],
   "source": [
    "#Probably worth going through the difference in click rates by source.\n",
    "source = test_results_user['source']\n",
    "source_counts = source.value_counts()\n",
    "source_counts"
   ]
  },
  {
   "cell_type": "code",
   "execution_count": 199,
   "metadata": {},
   "outputs": [
    {
     "data": {
      "text/plain": [
       "array(['ads_facebook', 'seo-google', 'ads-bing', 'direct_traffic',\n",
       "       'ads-google', 'seo_facebook', 'friend_referral', 'ads_other',\n",
       "       'ads-yahoo', 'seo-yahoo', 'seo-bing', 'seo-other'], dtype=object)"
      ]
     },
     "execution_count": 199,
     "metadata": {},
     "output_type": "execute_result"
    }
   ],
   "source": [
    "#list of sources in the order\n",
    "source_list=test_results_user.source.unique()\n",
    "source_list"
   ]
  },
  {
   "cell_type": "code",
   "execution_count": 201,
   "metadata": {},
   "outputs": [
    {
     "data": {
      "text/plain": [
       "array([[0.02366638, 0.016842  , 1.07658687],\n",
       "       [0.01754734, 0.01597919, 1.37762417],\n",
       "       [0.01334794, 0.00955954, 1.08345297],\n",
       "       [0.01354524, 0.01009353, 1.12731068],\n",
       "       [0.02255441, 0.01961422, 1.31560988],\n",
       "       [0.01744488, 0.01357642, 1.17734708],\n",
       "       [0.04172059, 0.03346561, 1.21348846],\n",
       "       [0.01540137, 0.01246224, 1.22412012],\n",
       "       [0.01681196, 0.01121157, 1.00887124],\n",
       "       [0.01948201, 0.01046278, 0.81245749],\n",
       "       [0.02998501, 0.01343101, 0.67762907],\n",
       "       [0.01749024, 0.01245921, 1.07766126]])"
      ]
     },
     "execution_count": 201,
     "metadata": {},
     "output_type": "execute_result"
    }
   ],
   "source": [
    "source_conversion_rate = np.zeros((source_list.shape[0],3))\n",
    "\n",
    "test_group_source = test_group.groupby('source') \n",
    "control_group_source = control_group.groupby('source') \n",
    "\n",
    "\n",
    "n=0\n",
    "for source in source_list:\n",
    "    source_group_control=control_group_source.get_group(source) \n",
    "    source_conversion_rate[n,0] = sum(source_group_control['converted'])/source_group_control.shape[0]\n",
    "    \n",
    "    source_group_test=test_group_source.get_group(source) \n",
    "    source_conversion_rate[n,1] = sum(source_group_test['converted'])/source_group_test.shape[0]\n",
    "    \n",
    "    source_conversion_rate[n,2] = (59/39 * source_conversion_rate[n,1])/source_conversion_rate[n,0]\n",
    "   \n",
    "    n = n+1\n",
    "\n",
    "source_conversion_rate"
   ]
  },
  {
   "cell_type": "code",
   "execution_count": 210,
   "metadata": {},
   "outputs": [
    {
     "data": {
      "text/plain": [
       "([0, 1, 2, 3, 4, 5, 6, 7, 8, 9, 10, 11],\n",
       " <a list of 12 Text xticklabel objects>)"
      ]
     },
     "execution_count": 210,
     "metadata": {},
     "output_type": "execute_result"
    },
    {
     "data": {
      "image/png": "[encoded data removed]",
      "text/plain": [
       "<Figure size 432x288 with 1 Axes>"
      ]
     },
     "metadata": {
      "needs_background": "light"
     },
     "output_type": "display_data"
    }
   ],
   "source": [
    "# intialise data of lists. \n",
    "data2 = {'control rate':source_conversion_rate[:,0], 'sales ratio':source_conversion_rate[:,2],'source': source_list} \n",
    "  \n",
    "# Create DataFrame \n",
    "df2 = pd.DataFrame(data2) \n",
    "sb.lineplot(x = df2['source'], y = df2['control rate'], markers = True)\n",
    "sb.despine()\n",
    "plt.xticks(rotation = 90)"
   ]
  },
  {
   "cell_type": "code",
   "execution_count": 211,
   "metadata": {},
   "outputs": [
    {
     "data": {
      "text/plain": [
       "([0, 1, 2, 3, 4, 5, 6, 7, 8, 9, 10, 11],\n",
       " <a list of 12 Text xticklabel objects>)"
      ]
     },
     "execution_count": 211,
     "metadata": {},
     "output_type": "execute_result"
    },
    {
     "data": {
      "image/png": "[encoded data removed]",
      "text/plain": [
       "<Figure size 432x288 with 1 Axes>"
      ]
     },
     "metadata": {
      "needs_background": "light"
     },
     "output_type": "display_data"
    }
   ],
   "source": [
    "sb.lineplot(x = df2['source'], y = df2['sales ratio'], markers = True)\n",
    "sb.despine()\n",
    "plt.xticks(rotation = 90)"
   ]
  },
  {
   "cell_type": "code",
   "execution_count": 212,
   "metadata": {},
   "outputs": [],
   "source": [
    "# bootstrap for ads-google customers.\n",
    "\n",
    "source_group_control=control_group_source.get_group('ads-google')\n",
    "source_group_test = test_group_source.get_group('ads-google')\n",
    "\n",
    "control_converted=source_group_control['converted']\n",
    "test_converted = source_group_test['converted']\n",
    "\n",
    "sales_ratio_boot_adsgoogle = np.zeros((1000,1))\n",
    "\n",
    "for boot_sample in range (1000):\n",
    "    control_sample = control_converted.sample(frac=1, replace=True)\n",
    "    test_sample = test_converted.sample(frac=1, replace=True)\n",
    "\n",
    "    control_rate_boot=sum(control_sample)/control_sample.shape[0]\n",
    "    test_rate_boot=sum(test_sample)/test_sample.shape[0]\n",
    "    \n",
    "    sales_ratio_boot_adsgoogle[boot_sample]=(59/39 * test_rate_boot)/control_rate_boot\n"
   ]
  },
  {
   "cell_type": "code",
   "execution_count": 213,
   "metadata": {},
   "outputs": [],
   "source": [
    "# bootstrap for seo-google customers.\n",
    "\n",
    "source_group_control=control_group_source.get_group('seo-google')\n",
    "source_group_test = test_group_source.get_group('seo-google')\n",
    "\n",
    "control_converted=source_group_control['converted']\n",
    "test_converted = source_group_test['converted']\n",
    "\n",
    "sales_ratio_boot_seogoogle = np.zeros((1000,1))\n",
    "\n",
    "for boot_sample in range (1000):\n",
    "    control_sample = control_converted.sample(frac=1, replace=True)\n",
    "    test_sample = test_converted.sample(frac=1, replace=True)\n",
    "\n",
    "    control_rate_boot=sum(control_sample)/control_sample.shape[0]\n",
    "    test_rate_boot=sum(test_sample)/test_sample.shape[0]\n",
    "    \n",
    "    sales_ratio_boot_seogoogle[boot_sample]=(59/39 * test_rate_boot)/control_rate_boot\n"
   ]
  },
  {
   "cell_type": "code",
   "execution_count": 214,
   "metadata": {},
   "outputs": [],
   "source": [
    "# bootstrap for seo-bing customers.\n",
    "\n",
    "source_group_control=control_group_source.get_group('seo-bing')\n",
    "source_group_test = test_group_source.get_group('seo-bing')\n",
    "\n",
    "control_converted=source_group_control['converted']\n",
    "test_converted = source_group_test['converted']\n",
    "\n",
    "sales_ratio_boot_seobing = np.zeros((1000,1))\n",
    "\n",
    "for boot_sample in range (1000):\n",
    "    control_sample = control_converted.sample(frac=1, replace=True)\n",
    "    test_sample = test_converted.sample(frac=1, replace=True)\n",
    "\n",
    "    control_rate_boot=sum(control_sample)/control_sample.shape[0]\n",
    "    test_rate_boot=sum(test_sample)/test_sample.shape[0]\n",
    "    \n",
    "    sales_ratio_boot_seobing[boot_sample]=(59/39 * test_rate_boot)/control_rate_boot\n"
   ]
  },
  {
   "cell_type": "code",
   "execution_count": 215,
   "metadata": {},
   "outputs": [],
   "source": [
    "# bootstrap for seo-yahoo customers.\n",
    "\n",
    "source_group_control=control_group_source.get_group('seo-yahoo')\n",
    "source_group_test = test_group_source.get_group('seo-yahoo')\n",
    "\n",
    "control_converted=source_group_control['converted']\n",
    "test_converted = source_group_test['converted']\n",
    "\n",
    "sales_ratio_boot_seoyahoo = np.zeros((1000,1))\n",
    "\n",
    "for boot_sample in range (1000):\n",
    "    control_sample = control_converted.sample(frac=1, replace=True)\n",
    "    test_sample = test_converted.sample(frac=1, replace=True)\n",
    "\n",
    "    control_rate_boot=sum(control_sample)/control_sample.shape[0]\n",
    "    test_rate_boot=sum(test_sample)/test_sample.shape[0]\n",
    "    \n",
    "    sales_ratio_boot_seoyahoo[boot_sample]=(59/39 * test_rate_boot)/control_rate_boot\n"
   ]
  },
  {
   "cell_type": "code",
   "execution_count": 216,
   "metadata": {},
   "outputs": [
    {
     "data": {
      "image/png": "[encoded data removed]",
      "text/plain": [
       "<Figure size 432x288 with 1 Axes>"
      ]
     },
     "metadata": {
      "needs_background": "light"
     },
     "output_type": "display_data"
    }
   ],
   "source": [
    "ax1=sb.distplot(sales_ratio_boot_adsgoogle)\n",
    "sb.despine()\n",
    "ax1.set_xlabel('test sales/control sales (ads-google = blue, seo-google = orange)')\n",
    "\n",
    "ax1=sb.distplot(sales_ratio_boot_seogoogle)\n",
    "sb.despine()\n"
   ]
  },
  {
   "cell_type": "code",
   "execution_count": 217,
   "metadata": {},
   "outputs": [
    {
     "name": "stdout",
     "output_type": "stream",
     "text": [
      "ratio    1.172344\n",
      "Name: 25, dtype: float64\n",
      "ratio    1.476243\n",
      "Name: 975, dtype: float64\n"
     ]
    }
   ],
   "source": [
    "sales_ratio_df = pd.DataFrame(sales_ratio_boot_adsgoogle, columns = ['ratio'])\n",
    "sales_ratio_df.sort_values(by = ['ratio'],inplace = True)\n",
    "sales_ratio_df.reset_index(drop=True, inplace = True)\n",
    "print(sales_ratio_df.iloc[25])\n",
    "print(sales_ratio_df.iloc[975])"
   ]
  },
  {
   "cell_type": "code",
   "execution_count": 218,
   "metadata": {},
   "outputs": [
    {
     "name": "stdout",
     "output_type": "stream",
     "text": [
      "ratio    1.114174\n",
      "Name: 25, dtype: float64\n",
      "ratio    1.702902\n",
      "Name: 975, dtype: float64\n"
     ]
    }
   ],
   "source": [
    "sales_ratio_df = pd.DataFrame(sales_ratio_boot_seogoogle, columns = ['ratio'])\n",
    "sales_ratio_df.sort_values(by = ['ratio'],inplace = True)\n",
    "sales_ratio_df.reset_index(drop=True, inplace = True)\n",
    "print(sales_ratio_df.iloc[25])\n",
    "print(sales_ratio_df.iloc[975])"
   ]
  },
  {
   "cell_type": "code",
   "execution_count": 219,
   "metadata": {},
   "outputs": [
    {
     "data": {
      "image/png": "[encoded data removed]",
      "text/plain": [
       "<Figure size 432x288 with 1 Axes>"
      ]
     },
     "metadata": {
      "needs_background": "light"
     },
     "output_type": "display_data"
    }
   ],
   "source": [
    "ax1=sb.distplot(sales_ratio_boot_seobing)\n",
    "sb.despine()\n",
    "ax1.set_xlabel('test sales/control sales (seo-bing = blue, seo-yahoo = orange)')\n",
    "\n",
    "ax1=sb.distplot(sales_ratio_boot_seoyahoo)\n",
    "sb.despine()"
   ]
  },
  {
   "cell_type": "code",
   "execution_count": 220,
   "metadata": {},
   "outputs": [
    {
     "name": "stdout",
     "output_type": "stream",
     "text": [
      "ratio    0.295693\n",
      "Name: 25, dtype: float64\n",
      "ratio    1.263644\n",
      "Name: 975, dtype: float64\n"
     ]
    }
   ],
   "source": [
    "sales_ratio_df = pd.DataFrame(sales_ratio_boot_seobing, columns = ['ratio'])\n",
    "sales_ratio_df.sort_values(by = ['ratio'],inplace = True)\n",
    "sales_ratio_df.reset_index(drop=True, inplace = True)\n",
    "print(sales_ratio_df.iloc[25])\n",
    "print(sales_ratio_df.iloc[975])"
   ]
  },
  {
   "cell_type": "code",
   "execution_count": 221,
   "metadata": {},
   "outputs": [
    {
     "name": "stdout",
     "output_type": "stream",
     "text": [
      "ratio    0.491872\n",
      "Name: 25, dtype: float64\n",
      "ratio    1.220375\n",
      "Name: 975, dtype: float64\n"
     ]
    }
   ],
   "source": [
    "sales_ratio_df = pd.DataFrame(sales_ratio_boot_seoyahoo, columns = ['ratio'])\n",
    "sales_ratio_df.sort_values(by = ['ratio'],inplace = True)\n",
    "sales_ratio_df.reset_index(drop=True, inplace = True)\n",
    "print(sales_ratio_df.iloc[25])\n",
    "print(sales_ratio_df.iloc[975])"
   ]
  },
  {
   "cell_type": "markdown",
   "metadata": {},
   "source": [
    "### Check if cities affect sales or sales ratio"
   ]
  },
  {
   "cell_type": "code",
   "execution_count": 222,
   "metadata": {},
   "outputs": [],
   "source": [
    "#Some rows do not have city info. Drop these rows.\n",
    "test_group2 = test_group.dropna()\n",
    "control_group2 = control_group.dropna()\n"
   ]
  },
  {
   "cell_type": "code",
   "execution_count": 223,
   "metadata": {},
   "outputs": [
    {
     "data": {
      "text/plain": [
       "array([[0.01949365, 0.01605996, 1.24634604],\n",
       "       [0.01977951, 0.01531328, 1.17122378],\n",
       "       [0.01896082, 0.01440606, 1.14941098],\n",
       "       [0.02132334, 0.01510248, 1.07147093]])"
      ]
     },
     "execution_count": 223,
     "metadata": {},
     "output_type": "execute_result"
    }
   ],
   "source": [
    "#probably better to make a mask and then use those value to calculate 4 different values each.\n",
    "#Going through loop takes too much time.\n",
    "region_conversion_rate = np.zeros((4,3))\n",
    "\n",
    "test_east = (test_group2['long'] >= -85)\n",
    "control_east = (control_group2['long'] >= -85)\n",
    "\n",
    "test_west = (test_group2['long']<= -110)\n",
    "control_west = (control_group2['long']<= -110)\n",
    "\n",
    "test_north = (test_group2['long']<-85) & (test_group2['long']> -110) &(test_group2['lat']>=36)\n",
    "control_north = (control_group2['long']<-85) & (control_group2['long']> -110) &(control_group2['lat']>=36)\n",
    "\n",
    "test_south = (test_group2['long']<-85) & (test_group2['long']> -110) &(test_group2['lat']<36)\n",
    "control_south = (control_group2['long']<-85) & (control_group2['long']> -110) &(control_group2['lat']<36)\n",
    "\n",
    "test_east_data = test_group2.loc[test_east]\n",
    "control_east_data = control_group2.loc[control_east]\n",
    "\n",
    "test_west_data = test_group2.loc[test_west]\n",
    "control_west_data = control_group2.loc[control_west]\n",
    "\n",
    "test_north_data = test_group2.loc[test_north]\n",
    "control_north_data = control_group2.loc[control_north]\n",
    "\n",
    "test_south_data = test_group2.loc[test_south]\n",
    "control_south_data = control_group2.loc[control_south]\n",
    "\n",
    "region_conversion_rate[0,0] = sum(control_east_data['converted'])/control_east_data.shape[0]\n",
    "region_conversion_rate[0,1] = sum(test_east_data['converted'])/test_east_data.shape[0]\n",
    "region_conversion_rate[0,2] = (59/39 * region_conversion_rate[0,1])/region_conversion_rate[0,0]\n",
    "    \n",
    "region_conversion_rate[1,0] = sum(control_west_data['converted'])/control_west_data.shape[0]\n",
    "region_conversion_rate[1,1] = sum(test_west_data['converted'])/test_west_data.shape[0]\n",
    "region_conversion_rate[1,2] = (59/39 * region_conversion_rate[1,1])/region_conversion_rate[1,0]\n",
    "\n",
    "\n",
    "region_conversion_rate[2,0] = sum(control_north_data['converted'])/control_north_data.shape[0]\n",
    "region_conversion_rate[2,1] = sum(test_north_data['converted'])/test_north_data.shape[0]\n",
    "region_conversion_rate[2,2] = (59/39 * region_conversion_rate[2,1])/region_conversion_rate[2,0]\n",
    "\n",
    "\n",
    "region_conversion_rate[3,0] = sum(control_south_data['converted'])/control_south_data.shape[0]\n",
    "region_conversion_rate[3,1] = sum(test_south_data['converted'])/test_south_data.shape[0]\n",
    "region_conversion_rate[3,2] = (59/39 * region_conversion_rate[3,1])/region_conversion_rate[3,0]\n",
    "\n",
    "\n",
    "\n",
    "region_conversion_rate"
   ]
  },
  {
   "cell_type": "code",
   "execution_count": 224,
   "metadata": {},
   "outputs": [],
   "source": [
    "#Check if East and South is significnatly different or not.\n",
    "# bootstrap for customers in the East\n",
    "\n",
    "control_converted=control_east_data['converted']\n",
    "test_converted = test_east_data['converted']\n",
    "\n",
    "sales_ratio_boot_east = np.zeros((1000,1))\n",
    "\n",
    "for boot_sample in range (1000):\n",
    "    control_sample = control_converted.sample(frac=1, replace=True)\n",
    "    test_sample = test_converted.sample(frac=1, replace=True)\n",
    "\n",
    "    control_rate_boot=sum(control_sample)/control_sample.shape[0]\n",
    "    test_rate_boot=sum(test_sample)/test_sample.shape[0]\n",
    "    \n",
    "    sales_ratio_boot_east[boot_sample]=(59/39 * test_rate_boot)/control_rate_boot\n"
   ]
  },
  {
   "cell_type": "code",
   "execution_count": 225,
   "metadata": {},
   "outputs": [],
   "source": [
    "# bootstrap for customers in the South\n",
    "\n",
    "control_converted=control_south_data['converted']\n",
    "test_converted = test_south_data['converted']\n",
    "\n",
    "sales_ratio_boot_south = np.zeros((1000,1))\n",
    "\n",
    "for boot_sample in range (1000):\n",
    "    control_sample = control_converted.sample(frac=1, replace=True)\n",
    "    test_sample = test_converted.sample(frac=1, replace=True)\n",
    "\n",
    "    control_rate_boot=sum(control_sample)/control_sample.shape[0]\n",
    "    test_rate_boot=sum(test_sample)/test_sample.shape[0]\n",
    "    \n",
    "    sales_ratio_boot_south[boot_sample]=(59/39 * test_rate_boot)/control_rate_boot\n"
   ]
  },
  {
   "cell_type": "code",
   "execution_count": 226,
   "metadata": {},
   "outputs": [
    {
     "data": {
      "image/png": "[encoded data removed]",
      "text/plain": [
       "<Figure size 432x288 with 1 Axes>"
      ]
     },
     "metadata": {
      "needs_background": "light"
     },
     "output_type": "display_data"
    }
   ],
   "source": [
    "ax1=sb.distplot(sales_ratio_boot_east)\n",
    "sb.despine()\n",
    "ax1.set_xlabel('test sales/control sales (east = blue, south = orange)')\n",
    "\n",
    "ax1=sb.distplot(sales_ratio_boot_south)\n",
    "sb.despine()"
   ]
  },
  {
   "cell_type": "code",
   "execution_count": 227,
   "metadata": {},
   "outputs": [
    {
     "name": "stdout",
     "output_type": "stream",
     "text": [
      "ratio    1.137808\n",
      "Name: 25, dtype: float64\n",
      "ratio    1.373701\n",
      "Name: 975, dtype: float64\n"
     ]
    }
   ],
   "source": [
    "sales_ratio_df = pd.DataFrame(sales_ratio_boot_east, columns = ['ratio'])\n",
    "sales_ratio_df.sort_values(by = ['ratio'],inplace = True)\n",
    "sales_ratio_df.reset_index(drop=True, inplace = True)\n",
    "print(sales_ratio_df.iloc[25])\n",
    "print(sales_ratio_df.iloc[975])"
   ]
  },
  {
   "cell_type": "code",
   "execution_count": 228,
   "metadata": {},
   "outputs": [
    {
     "name": "stdout",
     "output_type": "stream",
     "text": [
      "ratio    0.918726\n",
      "Name: 25, dtype: float64\n",
      "ratio    1.238606\n",
      "Name: 975, dtype: float64\n"
     ]
    }
   ],
   "source": [
    "sales_ratio_df = pd.DataFrame(sales_ratio_boot_south, columns = ['ratio'])\n",
    "sales_ratio_df.sort_values(by = ['ratio'],inplace = True)\n",
    "sales_ratio_df.reset_index(drop=True, inplace = True)\n",
    "print(sales_ratio_df.iloc[25])\n",
    "print(sales_ratio_df.iloc[975])"
   ]
  },
  {
   "cell_type": "markdown",
   "metadata": {},
   "source": [
    "## Results\n",
    "\n",
    "- ### Overall, increasing the price to \\\\$59 decreased the conversion rate but significantly increased the sales. However, this effect depends on the type of customers.\n",
    "\n",
    "- ### Sales from \"mobile\" customers signficantly increased. Sales from \"web\" customers increased but the confidence interval was very close to 1 for sales ratio.\n",
    "\n",
    "- ### Sales increased significantly for \"iOS\" and \"mac\" users, but \"linux\" users did not buy higher priced software.\n",
    "\n",
    "- ### Users with \"friend referral\" has higher conversion rate.\n",
    "\n",
    "- ### Customers coming from \"ads-google\" and \"seo-google\" has higher sales during the test.\n",
    "\n",
    "- ### Customers coming from \"seo-bing\" and \"seo-yahoo\" has lower sales during the test, but need more data to determine it's significance.\n",
    "\n",
    "- ### Sales for customers in the \"east\" increased significantly for the test.\n",
    "\n",
    "- ### Sales for customers in the \"south\" did not significantly increase for the test.\n",
    "\n",
    "## Future directions\n",
    "\n",
    "- ### Check if the effect changes with time"
   ]
  }
 ],
 "metadata": {
  "anaconda-cloud": {},
  "kernelspec": {
   "display_name": "Python 3",
   "language": "python",
   "name": "python3"
  },
  "language_info": {
   "codemirror_mode": {
    "name": "ipython",
    "version": 3
   },
   "file_extension": ".py",
   "mimetype": "text/x-python",
   "name": "python",
   "nbconvert_exporter": "python",
   "pygments_lexer": "ipython3",
   "version": "3.6.10"
  }
 },
 "nbformat": 4,
 "nbformat_minor": 2
}

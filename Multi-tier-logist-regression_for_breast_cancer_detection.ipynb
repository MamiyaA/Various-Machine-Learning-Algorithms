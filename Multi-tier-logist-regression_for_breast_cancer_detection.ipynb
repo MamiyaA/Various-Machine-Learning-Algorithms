{
 "cells": [
  {
   "cell_type": "markdown",
   "metadata": {},
   "source": [
    "# Breast cancer detection using features from biopsied cells\n",
    "\n",
    "## Out line of the problem\n",
    "- ### Develop means to help doctors diagnose breast cancer based on features of biopsied breast cells.\n",
    "\n",
    "- ### Each feature requires time and money to collect.\n",
    "\n",
    "- ### Find the most cost-effective method of detecting malignancy.\n",
    "\n",
    "## Approach\n",
    "- ### Develop a two-tier classification system that can achieve high accuracy without using too much resourses.\n",
    "\n",
    "- ### First step will focus on achieving high recall with few features. Subjects whose cells were classified as malignant will advance to step two.\n",
    "\n",
    "- ### Second step will focus on increasing accuracy with all features.\n",
    "\n",
    "## Summary\n",
    "- ### First use a logistic regression model that uses only one feature \"Bare Nuclei\" to calculate the probability of the cells being malignant. Categorize all subjects with probability higher than 30% as \"malignant\" to increase recall.\n",
    "\n",
    "- ### For subjects categorized as \"malignant\", use a logistic regression model that uses all the features to accurately cateogorize them."
   ]
  },
  {
   "cell_type": "markdown",
   "metadata": {},
   "source": [
    "## Relevant analyses"
   ]
  },
  {
   "cell_type": "code",
   "execution_count": 127,
   "metadata": {},
   "outputs": [],
   "source": [
    "#Import necessary packages\n",
    "\n",
    "import numpy as np\n",
    "import pandas as pd\n",
    "import os\n",
    "import pickle\n",
    "\n",
    "import matplotlib.pyplot as plt\n",
    "import seaborn as sb\n",
    "color = sb.color_palette()\n",
    "%matplotlib inline\n",
    "\n",
    "from sklearn import preprocessing as pp \n",
    "from scipy.stats import pearsonr\n",
    "from sklearn.linear_model import LogisticRegressionCV\n",
    "from sklearn.metrics import roc_auc_score\n",
    "from sklearn.model_selection import train_test_split\n",
    "from sklearn import metrics"
   ]
  },
  {
   "cell_type": "markdown",
   "metadata": {},
   "source": [
    "### Read in the original data file received. Remove the description and save as an excel file in the data directory. \n",
    "\n",
    "### while inspecting the data, noticed that:\n",
    "\n",
    "- There are missing values.\n",
    "- There are duplicate data.\n",
    "- There are features whose values are larger than 10.\n",
    "\n",
    "### Read in the data:"
   ]
  },
  {
   "cell_type": "code",
   "execution_count": 128,
   "metadata": {},
   "outputs": [],
   "source": [
    "#Read the provided data (after deleting the data description line and saving it as .xlsx) to pandas dataframe\n",
    "current_path = os.getcwd()\n",
    "file = '/datasets/BreastCancerDetection/breast-cancer-wisconsin.xlsx'\n",
    "original_data = pd.read_excel(current_path + file)"
   ]
  },
  {
   "cell_type": "code",
   "execution_count": 130,
   "metadata": {},
   "outputs": [],
   "source": [
    "#Change the data type to float. Any non-numeric values will become NaN\n",
    "original_data_numeric = pd.DataFrame().reindex_like(original_data)\n",
    "\n",
    "#Run a for loop to change each column to float type\n",
    "for index in range(original_data.shape[1]):\n",
    "   \n",
    "   # Select column by index position using iloc[]\n",
    "    original_data_numeric.iloc[:,index] = (pd.to_numeric(original_data.iloc[:,index], errors='coerce'))\n"
   ]
  },
  {
   "cell_type": "markdown",
   "metadata": {},
   "source": [
    "### Remove rows with missing values"
   ]
  },
  {
   "cell_type": "code",
   "execution_count": 132,
   "metadata": {},
   "outputs": [],
   "source": [
    "#drop all rows that contain NaN for now.\n",
    "data_without_nan = original_data_numeric.dropna()\n",
    "#Use 'index' as row index.\n",
    "data_without_nan = data_without_nan.set_index('index')"
   ]
  },
  {
   "cell_type": "markdown",
   "metadata": {},
   "source": [
    "### Remove duplicate data"
   ]
  },
  {
   "cell_type": "code",
   "execution_count": 133,
   "metadata": {},
   "outputs": [],
   "source": [
    "#remove duplicate rows (use the first one as unique)\n",
    "data_without_nan.drop_duplicates(inplace = True) "
   ]
  },
  {
   "cell_type": "markdown",
   "metadata": {},
   "source": [
    "### Remove data that's out of range"
   ]
  },
  {
   "cell_type": "code",
   "execution_count": 134,
   "metadata": {},
   "outputs": [],
   "source": [
    "#Some values are going above the 10. Chose rows that have values equal to or less than 10.\n",
    "\n",
    "data_without_nan_filtered = data_without_nan[(data_without_nan['Clump Thickness'] <= 10) & (data_without_nan['Uniformity of Cell Size'] <= 10)] \n",
    "\n"
   ]
  },
  {
   "cell_type": "markdown",
   "metadata": {},
   "source": [
    "### Distribution of the features are skewed. Log transform them to bring it closer to normal distribution"
   ]
  },
  {
   "cell_type": "code",
   "execution_count": 137,
   "metadata": {},
   "outputs": [],
   "source": [
    "features = data_without_nan_filtered.iloc[:,1:10]\n",
    "transformed_features = features.apply(np.log)"
   ]
  },
  {
   "cell_type": "markdown",
   "metadata": {},
   "source": [
    "### Standardize the features (subtract mean and divide by the standard deviation)"
   ]
  },
  {
   "cell_type": "code",
   "execution_count": 138,
   "metadata": {},
   "outputs": [],
   "source": [
    "scaler_feature = pp.StandardScaler().fit(transformed_features)\n",
    "transformed_features_normalized = scaler_feature.transform(transformed_features)\n",
    "transformed_features_normalizedDF = pd.DataFrame(data=transformed_features_normalized)\n"
   ]
  },
  {
   "cell_type": "markdown",
   "metadata": {},
   "source": [
    "### Build logistic regression model using all the features. Aim for high accuracy"
   ]
  },
  {
   "cell_type": "code",
   "execution_count": 144,
   "metadata": {},
   "outputs": [
    {
     "name": "stdout",
     "output_type": "stream",
     "text": [
      "0.9777777777777777\n"
     ]
    }
   ],
   "source": [
    "cancer_state = data_without_nan_filtered.iloc[:,10]\n",
    "\n",
    "X_train, X_test, y_train, y_test = train_test_split(transformed_features_normalizedDF, cancer_state, test_size = 0.2,stratify=cancer_state)\n",
    "\n",
    "clf = LogisticRegressionCV(cv=5).fit(X_train, y_train)\n",
    "predicted_label = clf.predict(X_test)\n",
    "    \n",
    "score = clf.score(X_test, y_test)\n",
    "#accuracy score\n",
    "print(score)  "
   ]
  },
  {
   "cell_type": "code",
   "execution_count": 165,
   "metadata": {},
   "outputs": [
    {
     "name": "stdout",
     "output_type": "stream",
     "text": [
      "[[86  2]\n",
      " [ 1 46]]\n"
     ]
    }
   ],
   "source": [
    "print(metrics.confusion_matrix(y_test, predicted_label))"
   ]
  },
  {
   "cell_type": "markdown",
   "metadata": {},
   "source": [
    "### Inspect the coefficients in this model to identify a feature with the highest predictive value. Identify that a feature \"Bare Nuclei\" has the highest coefficient."
   ]
  },
  {
   "cell_type": "code",
   "execution_count": 145,
   "metadata": {},
   "outputs": [
    {
     "data": {
      "text/plain": [
       "array([[0.90388066, 0.674033  , 0.8716097 , 0.31240304, 0.27714243,\n",
       "        1.03896015, 0.72251143, 0.51586553, 0.49034507]])"
      ]
     },
     "execution_count": 145,
     "metadata": {},
     "output_type": "execute_result"
    }
   ],
   "source": [
    "clf.coef_"
   ]
  },
  {
   "cell_type": "markdown",
   "metadata": {},
   "source": [
    "### Test a logist regression model with just \"Bare Nuclei\" and see how accurate it is. "
   ]
  },
  {
   "cell_type": "code",
   "execution_count": 150,
   "metadata": {},
   "outputs": [
    {
     "name": "stdout",
     "output_type": "stream",
     "text": [
      "0.9259259259259259\n"
     ]
    }
   ],
   "source": [
    "X_train2, X_test2, y_train2, y_test2 = train_test_split(transformed_features_normalizedDF.iloc[:,5:6], cancer_state, test_size = 0.2,stratify=cancer_state)\n",
    "\n",
    "clf2 = LogisticRegressionCV(cv=5).fit(X_train2, y_train2)\n",
    "predicted_label2 = clf2.predict(X_test2)\n",
    "    \n",
    "score2 = clf2.score(X_test2, y_test2)\n",
    "print(score2)    "
   ]
  },
  {
   "cell_type": "markdown",
   "metadata": {},
   "source": [
    "### Accuracy of 92.5 % is close to the accuracy of the full model. Check the confusion matrix to see how many false negatives we have. "
   ]
  },
  {
   "cell_type": "code",
   "execution_count": 151,
   "metadata": {},
   "outputs": [
    {
     "name": "stdout",
     "output_type": "stream",
     "text": [
      "[[84  4]\n",
      " [ 6 41]]\n"
     ]
    }
   ],
   "source": [
    "print(metrics.confusion_matrix(y_test2, predicted_label2))"
   ]
  },
  {
   "cell_type": "markdown",
   "metadata": {},
   "source": [
    "### Check the predicted probability of the each test data and see if any of the 4 false negatives were close to becoming positive (default categorization probability of 0.5)"
   ]
  },
  {
   "cell_type": "code",
   "execution_count": 152,
   "metadata": {},
   "outputs": [
    {
     "data": {
      "text/plain": [
       "array([[<matplotlib.axes._subplots.AxesSubplot object at 0x7f7b547fc1d0>]],\n",
       "      dtype=object)"
      ]
     },
     "execution_count": 152,
     "metadata": {},
     "output_type": "execute_result"
    },
    {
     "data": {
      "image/png": "[encoded data removed]",
      "text/plain": [
       "<Figure size 432x288 with 1 Axes>"
      ]
     },
     "metadata": {
      "needs_background": "light"
     },
     "output_type": "display_data"
    }
   ],
   "source": [
    "predicted_proba2 = clf2.predict_proba(X_test2)\n",
    "predicted_proba2_df = pd.DataFrame(data=predicted_proba2[y_test2 == 2.0,0])\n",
    "predicted_proba2_df.hist()"
   ]
  },
  {
   "cell_type": "markdown",
   "metadata": {},
   "source": [
    "### Detailed inspection of the probability shows that decreasing the categorization threshold to 0.3 will reduce the false negative to zero in this particular test set, at the expense of increasing the falst postive by 10."
   ]
  },
  {
   "cell_type": "code",
   "execution_count": 153,
   "metadata": {},
   "outputs": [
    {
     "data": {
      "text/plain": [
       "array([0.72739015, 0.90242259, 0.90242259, 0.90242259, 0.56323553,\n",
       "       0.90242259, 0.56323553, 0.90242259, 0.90242259, 0.34034528,\n",
       "       0.90242259, 0.90242259, 0.90242259, 0.90242259, 0.90242259,\n",
       "       0.90242259, 0.90242259, 0.90242259, 0.90242259, 0.90242259,\n",
       "       0.90242259, 0.90242259, 0.90242259, 0.90242259, 0.90242259,\n",
       "       0.90242259, 0.72739015, 0.90242259, 0.90242259, 0.90242259,\n",
       "       0.90242259, 0.90242259, 0.34034528, 0.90242259, 0.90242259,\n",
       "       0.90242259, 0.90242259, 0.90242259, 0.90242259, 0.90242259,\n",
       "       0.90242259, 0.90242259, 0.90242259, 0.90242259, 0.90242259,\n",
       "       0.34034528, 0.90242259, 0.90242259, 0.72739015, 0.90242259,\n",
       "       0.90242259, 0.90242259, 0.90242259, 0.90242259, 0.90242259,\n",
       "       0.90242259, 0.90242259, 0.90242259, 0.34034528, 0.90242259,\n",
       "       0.90242259, 0.90242259, 0.72739015, 0.90242259, 0.90242259,\n",
       "       0.90242259, 0.90242259, 0.90242259, 0.90242259, 0.90242259,\n",
       "       0.90242259, 0.90242259, 0.90242259, 0.90242259, 0.90242259,\n",
       "       0.90242259, 0.90242259, 0.90242259, 0.90242259, 0.90242259,\n",
       "       0.90242259, 0.90242259, 0.90242259, 0.90242259, 0.90242259,\n",
       "       0.56323553, 0.90242259, 0.90242259])"
      ]
     },
     "execution_count": 153,
     "metadata": {},
     "output_type": "execute_result"
    }
   ],
   "source": [
    "predicted_proba2[y_test2 == 2.0,0]"
   ]
  },
  {
   "cell_type": "code",
   "execution_count": 154,
   "metadata": {},
   "outputs": [
    {
     "data": {
      "text/plain": [
       "array([0.12956938, 0.12956938, 0.34034528, 0.18173898, 0.12956938,\n",
       "       0.72739015, 0.12956938, 0.12956938, 0.12956938, 0.12956938,\n",
       "       0.12956938, 0.12956938, 0.12956938, 0.34034528, 0.22008878,\n",
       "       0.34034528, 0.12956938, 0.56323553, 0.12956938, 0.12956938,\n",
       "       0.34034528, 0.34034528, 0.12956938, 0.56323553, 0.34034528,\n",
       "       0.34034528, 0.12956938, 0.34034528, 0.12956938, 0.12956938,\n",
       "       0.12956938, 0.90242259, 0.90242259, 0.15240915, 0.15240915,\n",
       "       0.90242259, 0.12956938, 0.22008878, 0.12956938, 0.12956938,\n",
       "       0.27116659, 0.12956938, 0.12956938, 0.12956938, 0.43497184,\n",
       "       0.18173898, 0.43497184])"
      ]
     },
     "execution_count": 154,
     "metadata": {},
     "output_type": "execute_result"
    }
   ],
   "source": [
    "predicted_proba2[y_test2 == 4.0,0]"
   ]
  },
  {
   "cell_type": "markdown",
   "metadata": {},
   "source": [
    "### For subjects above the probability of 0.3, run a second round of classification using the second model. Now there is only one false positive and one false negative."
   ]
  },
  {
   "cell_type": "code",
   "execution_count": 170,
   "metadata": {},
   "outputs": [
    {
     "name": "stdout",
     "output_type": "stream",
     "text": [
      "[[87  1]\n",
      " [ 1 15]]\n"
     ]
    }
   ],
   "source": [
    "#Select the subjects that would go into the second round if we set the threshold at 0.3 probability\n",
    "X_test3 = X_test2.loc[predicted_proba2[:,0]>0.3]\n",
    "y_test3 = y_test2.loc[predicted_proba2[:,0]>0.3]\n",
    "\n",
    "#Select the full features for those subjects.\n",
    "X_test3_full = transformed_features_normalizedDF[transformed_features_normalizedDF.index.isin(X_test3.index)]\n",
    "\n",
    "#sort the y_test3 values based on the index (because the X_test3_full will be sorted according to the index)\n",
    "y_test3.sort_index(inplace=True)\n",
    "#prediction for those subjects using the full model.\n",
    "predicted_label3 = clf.predict(X_test3_full)\n",
    "print(metrics.confusion_matrix(y_test3, predicted_label3))"
   ]
  },
  {
   "cell_type": "markdown",
   "metadata": {},
   "source": [
    "## Results\n",
    "\n",
    "- ### By using two tier logistic regression model, doctors can reduce the cost of testing by measuring only one feature for the majority of subjects, while still maintaining high accuracy of the test.\n",
    "\n",
    "- ### In the first step, the doctors will just use \"Bare Nuclei\" feature and use logistic regression with the threshold of 30% probability to identify potentially malignant cells.\n",
    "\n",
    "- ### In the second step, the doctors will use all features to maximize the accuracy.\n",
    "\n",
    "## Future directions\n",
    "\n",
    "- ### Try to reduce the number of features in the full feature model to see if we can maintain the accuracy with less feature"
   ]
  }
 ],
 "metadata": {
  "anaconda-cloud": {},
  "kernelspec": {
   "display_name": "Python 3",
   "language": "python",
   "name": "python3"
  },
  "language_info": {
   "codemirror_mode": {
    "name": "ipython",
    "version": 3
   },
   "file_extension": ".py",
   "mimetype": "text/x-python",
   "name": "python",
   "nbconvert_exporter": "python",
   "pygments_lexer": "ipython3",
   "version": "3.6.10"
  }
 },
 "nbformat": 4,
 "nbformat_minor": 2
}
